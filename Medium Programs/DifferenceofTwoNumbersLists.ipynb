{
  "nbformat": 4,
  "nbformat_minor": 0,
  "metadata": {
    "colab": {
      "provenance": []
    },
    "kernelspec": {
      "name": "python3",
      "display_name": "Python 3"
    },
    "language_info": {
      "name": "python"
    }
  },
  "cells": [
    {
      "cell_type": "code",
      "execution_count": 9,
      "metadata": {
        "colab": {
          "base_uri": "https://localhost:8080/"
        },
        "id": "lqm-XK6-GA8M",
        "outputId": "a93635b6-5022-47d1-f008-5514e54c05ef"
      },
      "outputs": [
        {
          "output_type": "stream",
          "name": "stdout",
          "text": [
            "6\n"
          ]
        }
      ],
      "source": [
        "list1=[2,8,4,6,5,3]\n",
        "difference=max(list1)-min(list1)\n",
        "print(difference)"
      ]
    }
  ]
}