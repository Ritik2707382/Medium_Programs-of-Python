{
  "nbformat": 4,
  "nbformat_minor": 0,
  "metadata": {
    "colab": {
      "provenance": []
    },
    "kernelspec": {
      "name": "python3",
      "display_name": "Python 3"
    },
    "language_info": {
      "name": "python"
    }
  },
  "cells": [
    {
      "cell_type": "code",
      "execution_count": 7,
      "metadata": {
        "colab": {
          "base_uri": "https://localhost:8080/"
        },
        "id": "1eEmUigF_xp6",
        "outputId": "564135fd-6a87-40bd-b40c-9d2202f8fcd7"
      },
      "outputs": [
        {
          "output_type": "stream",
          "name": "stdout",
          "text": [
            "Please enter how many terms of sequence :- 15\n",
            "[0, 1, 1, 2, 3, 5, 8, 13, 21, 34, 55, 89, 144, 233, 377]\n",
            "15\n"
          ]
        }
      ],
      "source": [
        "dum_list=[0,1]\n",
        "user_num=int(input(\"Please enter how many terms of sequence :- \"))\n",
        "while len(dum_list)<user_num:\n",
        "  new_term=dum_list[-1]+dum_list[-2]\n",
        "  dum_list.append(new_term)\n",
        "print(dum_list)\n",
        "print(len(dum_list))"
      ]
    }
  ]
}