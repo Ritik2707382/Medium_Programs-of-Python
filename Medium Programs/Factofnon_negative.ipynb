{
  "nbformat": 4,
  "nbformat_minor": 0,
  "metadata": {
    "colab": {
      "provenance": []
    },
    "kernelspec": {
      "name": "python3",
      "display_name": "Python 3"
    },
    "language_info": {
      "name": "python"
    }
  },
  "cells": [
    {
      "cell_type": "code",
      "execution_count": 18,
      "metadata": {
        "colab": {
          "base_uri": "https://localhost:8080/"
        },
        "id": "UZ2ciOmIhB9o",
        "outputId": "77e66ef4-a48f-4bb5-ef9e-294072f540b6"
      },
      "outputs": [
        {
          "output_type": "stream",
          "name": "stdout",
          "text": [
            "The factorial of 5 is: 120\n"
          ]
        }
      ],
      "source": [
        "def fact(n):\n",
        "  if (n==1 or n==0):\n",
        "    return 1\n",
        "  else:\n",
        "    return n*fact(n-1)\n",
        "num=5\n",
        "print(\"The factorial of\",num, \"is:\", fact(num))"
      ]
    },
    {
      "cell_type": "code",
      "source": [
        "def fact(n):\n",
        "  if (n==1 or n==0):\n",
        "    return 1\n",
        "  else:\n",
        "    return n*fact(n-1)\n",
        "num=int(input(\"Enter a Non-negative integer to calculate factorial:\"))\n",
        "if (num<0):\n",
        "  print(\"No Factorial exist for negative Number\")\n",
        "else:\n",
        "  print(\"The factorial of\",num, \"is:\", fact(num))"
      ],
      "metadata": {
        "colab": {
          "base_uri": "https://localhost:8080/"
        },
        "id": "u-itQj7hldOX",
        "outputId": "62f07426-3c02-4197-b1f9-eb6cda0843b6"
      },
      "execution_count": 21,
      "outputs": [
        {
          "output_type": "stream",
          "name": "stdout",
          "text": [
            "Enter a Non-negative integer to calculate factorial:5\n",
            "The factorial of 5 is: 120\n"
          ]
        }
      ]
    }
  ]
}