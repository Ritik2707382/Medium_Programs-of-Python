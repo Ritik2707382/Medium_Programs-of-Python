{
  "nbformat": 4,
  "nbformat_minor": 0,
  "metadata": {
    "colab": {
      "provenance": []
    },
    "kernelspec": {
      "name": "python3",
      "display_name": "Python 3"
    },
    "language_info": {
      "name": "python"
    }
  },
  "cells": [
    {
      "cell_type": "code",
      "execution_count": 3,
      "metadata": {
        "colab": {
          "base_uri": "https://localhost:8080/"
        },
        "id": "014w61wQ0a2-",
        "outputId": "d1157d0d-9cca-4d80-f1b5-13ab1dcfd4e8"
      },
      "outputs": [
        {
          "output_type": "stream",
          "name": "stdout",
          "text": [
            "The Intersection of Two Given Lists: [1, 2, 3, 4]\n"
          ]
        }
      ],
      "source": [
        "list1=[1,2,3,4,8,9]\n",
        "set1=set(list1)\n",
        "list2=[1,2,3,4,6,7]\n",
        "set2=set(list2)\n",
        "list3=list(set1.intersection(set2))\n",
        "print(\"The Intersection of Two Given Lists:\",list3)"
      ]
    }
  ]
}