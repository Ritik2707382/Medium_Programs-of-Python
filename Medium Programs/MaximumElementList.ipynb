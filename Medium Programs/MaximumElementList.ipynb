{
  "nbformat": 4,
  "nbformat_minor": 0,
  "metadata": {
    "colab": {
      "provenance": []
    },
    "kernelspec": {
      "name": "python3",
      "display_name": "Python 3"
    },
    "language_info": {
      "name": "python"
    }
  },
  "cells": [
    {
      "cell_type": "code",
      "execution_count": 3,
      "metadata": {
        "colab": {
          "base_uri": "https://localhost:8080/"
        },
        "id": "ghLKd_y1ouCh",
        "outputId": "cb664d23-b8e3-4680-9453-9c2f0349d58c"
      },
      "outputs": [
        {
          "output_type": "stream",
          "name": "stdout",
          "text": [
            "The Maximum Element in a List: 45\n"
          ]
        }
      ],
      "source": [
        "list1=[5,10,7,8,6,45]\n",
        "maximum_val=max(list1)\n",
        "print(\"The Maximum Element in a List:\",maximum_val)"
      ]
    }
  ]
}