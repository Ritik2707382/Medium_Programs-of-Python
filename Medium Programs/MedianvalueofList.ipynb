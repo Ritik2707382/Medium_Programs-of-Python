{
  "nbformat": 4,
  "nbformat_minor": 0,
  "metadata": {
    "colab": {
      "provenance": []
    },
    "kernelspec": {
      "name": "python3",
      "display_name": "Python 3"
    },
    "language_info": {
      "name": "python"
    }
  },
  "cells": [
    {
      "cell_type": "code",
      "execution_count": 3,
      "metadata": {
        "colab": {
          "base_uri": "https://localhost:8080/"
        },
        "id": "Vbk2vZiEJuoH",
        "outputId": "21646500-e5f8-4aa7-de46-79baa01b389c"
      },
      "outputs": [
        {
          "output_type": "stream",
          "name": "stdout",
          "text": [
            "Median value of list is: 3\n"
          ]
        }
      ],
      "source": [
        "import statistics\n",
        "list1=[1,3,5]\n",
        "m=statistics.median(list1)\n",
        "print(\"Median value of list is:\",m)"
      ]
    }
  ]
}