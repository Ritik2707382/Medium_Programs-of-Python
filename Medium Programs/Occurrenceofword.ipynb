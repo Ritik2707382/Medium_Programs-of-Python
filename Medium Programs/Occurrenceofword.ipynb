{
  "nbformat": 4,
  "nbformat_minor": 0,
  "metadata": {
    "colab": {
      "provenance": []
    },
    "kernelspec": {
      "name": "python3",
      "display_name": "Python 3"
    },
    "language_info": {
      "name": "python"
    }
  },
  "cells": [
    {
      "cell_type": "code",
      "execution_count": 4,
      "metadata": {
        "colab": {
          "base_uri": "https://localhost:8080/"
        },
        "id": "7Gb4fi1rrX-7",
        "outputId": "922b69e6-ea4e-43d4-e18d-f476d68977a6"
      },
      "outputs": [
        {
          "output_type": "stream",
          "name": "stdout",
          "text": [
            "2\n",
            "1\n"
          ]
        }
      ],
      "source": [
        "str1=\"Hello World Hello World To Coding\"\n",
        "x=str1.count(\"Hello World\")\n",
        "print(x)\n",
        "x=str1.count(\"To\")\n",
        "print(x)"
      ]
    },
    {
      "cell_type": "code",
      "source": [
        "str1=\"Hello World To Coding in C++ Hello World in C++ Hello World \"\n",
        "words=dict()\n",
        "text=str1.split()\n",
        "for i  in text:\n",
        "  if i in words:\n",
        "    words[i]=words[i]+1\n",
        "  else:\n",
        "    words[i]=1\n",
        "print(\"Number of Words in a String:\",words)"
      ],
      "metadata": {
        "colab": {
          "base_uri": "https://localhost:8080/"
        },
        "id": "S7LBF2Avt0U0",
        "outputId": "d0f06f48-4c62-4c6a-e376-9b86d63c52f7"
      },
      "execution_count": 17,
      "outputs": [
        {
          "output_type": "stream",
          "name": "stdout",
          "text": [
            "Number of Words in a String: {'Hello': 3, 'World': 3, 'To': 1, 'Coding': 1, 'in': 2, 'C++': 2}\n"
          ]
        }
      ]
    }
  ]
}