{
  "nbformat": 4,
  "nbformat_minor": 0,
  "metadata": {
    "colab": {
      "provenance": []
    },
    "kernelspec": {
      "name": "python3",
      "display_name": "Python 3"
    },
    "language_info": {
      "name": "python"
    }
  },
  "cells": [
    {
      "cell_type": "code",
      "execution_count": 2,
      "metadata": {
        "colab": {
          "base_uri": "https://localhost:8080/"
        },
        "id": "3xt3XAjNdx9J",
        "outputId": "4ab97178-36b3-438c-8c06-ef23fb7e0033"
      },
      "outputs": [
        {
          "output_type": "stream",
          "name": "stdout",
          "text": [
            "a\n",
            "ba\n",
            "cba\n",
            "bcba\n",
            "abcba\n",
            "The Given String is Palindrome\n"
          ]
        }
      ],
      "source": [
        "str1=\"abcba\"\n",
        "str2=\"\"\n",
        "for i in str1:\n",
        "  str2=i+str2\n",
        "  print(str2)\n",
        "if(str1==str2):\n",
        "  print(\"The Given String is Palindrome\")\n",
        "else:\n",
        "  print(\"The Given String is not Palindrome\")"
      ]
    }
  ]
}