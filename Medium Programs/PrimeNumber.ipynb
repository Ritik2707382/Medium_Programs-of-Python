{
  "nbformat": 4,
  "nbformat_minor": 0,
  "metadata": {
    "colab": {
      "provenance": []
    },
    "kernelspec": {
      "name": "python3",
      "display_name": "Python 3"
    },
    "language_info": {
      "name": "python"
    }
  },
  "cells": [
    {
      "cell_type": "code",
      "execution_count": 3,
      "metadata": {
        "colab": {
          "base_uri": "https://localhost:8080/"
        },
        "id": "5GrDiSog2Ip8",
        "outputId": "f0cd0c39-dec6-40db-87f0-75466413c7d4"
      },
      "outputs": [
        {
          "output_type": "stream",
          "name": "stdout",
          "text": [
            "Enter the Number:6\n",
            "2 is Prime Number\n",
            "3 is Prime Number\n",
            "4 is Not Prime Number\n",
            "5 is Prime Number\n"
          ]
        }
      ],
      "source": [
        "num=int(input(\"Enter the Number:\"))\n",
        "i=2\n",
        "flag=False\n",
        "while i<num:\n",
        "  for k in range(2,i-1):\n",
        "    if (i%k==0):\n",
        "      flag=True\n",
        "      break\n",
        "  if flag:\n",
        "    print(i,\"is Not Prime Number\")\n",
        "    flag=False\n",
        "  else:\n",
        "    print(i,\"is Prime Number\")\n",
        "  i=i+1"
      ]
    }
  ]
}