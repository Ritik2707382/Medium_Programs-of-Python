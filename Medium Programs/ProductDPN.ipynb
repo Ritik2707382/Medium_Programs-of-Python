{
  "nbformat": 4,
  "nbformat_minor": 0,
  "metadata": {
    "colab": {
      "provenance": []
    },
    "kernelspec": {
      "name": "python3",
      "display_name": "Python 3"
    },
    "language_info": {
      "name": "python"
    }
  },
  "cells": [
    {
      "cell_type": "code",
      "execution_count": 61,
      "metadata": {
        "colab": {
          "base_uri": "https://localhost:8080/"
        },
        "id": "Du86hlcoLZwT",
        "outputId": "99f306df-daed-4df3-861e-35a9d90abf29"
      },
      "outputs": [
        {
          "output_type": "stream",
          "name": "stdout",
          "text": [
            "The Product of all Numbers in the List: 6\n",
            "[2, 3]\n",
            "2\n"
          ]
        }
      ],
      "source": [
        "list1=[1,2,3]\n",
        "product=1\n",
        "list2=[]\n",
        "for i in list1:\n",
        "  product=product*i\n",
        "  i=i+1\n",
        "print(\"The Product of all Numbers in the List:\",product)\n",
        "for j in range(2,product):\n",
        "  if (product%j==0):\n",
        "    list2.append(j)\n",
        "  j=j+1\n",
        "print(list2)\n",
        "set1=set(list2)\n",
        "x=len(set1)\n",
        "print(x)"
      ]
    }
  ]
}