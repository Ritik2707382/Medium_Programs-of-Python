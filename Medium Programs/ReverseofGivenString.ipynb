{
  "nbformat": 4,
  "nbformat_minor": 0,
  "metadata": {
    "colab": {
      "provenance": []
    },
    "kernelspec": {
      "name": "python3",
      "display_name": "Python 3"
    },
    "language_info": {
      "name": "python"
    }
  },
  "cells": [
    {
      "cell_type": "code",
      "execution_count": 1,
      "metadata": {
        "colab": {
          "base_uri": "https://localhost:8080/"
        },
        "id": "f4Ra5lQQzrc0",
        "outputId": "642a752f-9bd3-43a4-e3dc-ac467a1ecb32"
      },
      "outputs": [
        {
          "output_type": "stream",
          "name": "stdout",
          "text": [
            "dlroW olleH\n"
          ]
        }
      ],
      "source": [
        "str1=\"Hello World\"\n",
        "x=str1[::-1]\n",
        "print(\"The Reverse of Given String is:\",x)"
      ]
    }
  ]
}