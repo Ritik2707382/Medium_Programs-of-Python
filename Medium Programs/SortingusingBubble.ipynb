{
  "nbformat": 4,
  "nbformat_minor": 0,
  "metadata": {
    "colab": {
      "provenance": []
    },
    "kernelspec": {
      "name": "python3",
      "display_name": "Python 3"
    },
    "language_info": {
      "name": "python"
    }
  },
  "cells": [
    {
      "cell_type": "code",
      "execution_count": 2,
      "metadata": {
        "colab": {
          "base_uri": "https://localhost:8080/"
        },
        "id": "6AK5h7zS5Yse",
        "outputId": "78ab4c9b-3bfe-4244-c745-449681f57352"
      },
      "outputs": [
        {
          "output_type": "stream",
          "name": "stdout",
          "text": [
            "The Sorted List is: [2, 3, 5, 6, 8, 9]\n"
          ]
        }
      ],
      "source": [
        "list1=[6,8,5,9,3,2]\n",
        "for i in range(0,len(list1)-1):\n",
        "  for i in range(len(list1)-1):\n",
        "    if (list1[i]>list1[i+1]):\n",
        "      temp=list1[i]\n",
        "      list1[i]=list1[i+1]\n",
        "      list1[i+1]=temp\n",
        "print(\"The Sorted List is:\",list1)"
      ]
    }
  ]
}