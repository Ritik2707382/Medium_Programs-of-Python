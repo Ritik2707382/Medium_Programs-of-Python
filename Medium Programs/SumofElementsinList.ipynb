{
  "nbformat": 4,
  "nbformat_minor": 0,
  "metadata": {
    "colab": {
      "provenance": []
    },
    "kernelspec": {
      "name": "python3",
      "display_name": "Python 3"
    },
    "language_info": {
      "name": "python"
    }
  },
  "cells": [
    {
      "cell_type": "code",
      "execution_count": 1,
      "metadata": {
        "colab": {
          "base_uri": "https://localhost:8080/"
        },
        "id": "bTCk2vo5y7uw",
        "outputId": "8c5788b6-9a5b-49a2-808d-4b41d57c0ec1"
      },
      "outputs": [
        {
          "output_type": "stream",
          "name": "stdout",
          "text": [
            "21\n"
          ]
        }
      ],
      "source": [
        "list1=[1,2,3,4,5,6]\n",
        "sum=0\n",
        "for i in list1:\n",
        "  sum=sum+i\n",
        "print(sum)"
      ]
    }
  ]
}